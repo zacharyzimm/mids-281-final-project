{
  "nbformat": 4,
  "nbformat_minor": 0,
  "metadata": {
    "colab": {
      "provenance": [],
      "authorship_tag": "ABX9TyPZthmxdvhTnVFzoYugMg1u",
      "include_colab_link": true
    },
    "kernelspec": {
      "name": "python3",
      "display_name": "Python 3"
    },
    "language_info": {
      "name": "python"
    }
  },
  "cells": [
    {
      "cell_type": "markdown",
      "metadata": {
        "id": "view-in-github",
        "colab_type": "text"
      },
      "source": [
        "<a href=\"https://colab.research.google.com/github/zacharyzimm/mids-281-final-project/blob/main/compiled_code.ipynb\" target=\"_parent\"><img src=\"https://colab.research.google.com/assets/colab-badge.svg\" alt=\"Open In Colab\"/></a>"
      ]
    },
    {
      "cell_type": "markdown",
      "source": [
        "Import Required Packages"
      ],
      "metadata": {
        "id": "t3xukQ0V2noj"
      }
    },
    {
      "cell_type": "code",
      "execution_count": 2,
      "metadata": {
        "colab": {
          "base_uri": "https://localhost:8080/",
          "height": 350
        },
        "id": "yyEssouwiP9M",
        "outputId": "df3724ff-c23e-469b-ff8c-e844bc1b4031"
      },
      "outputs": [
        {
          "output_type": "error",
          "ename": "ModuleNotFoundError",
          "evalue": "ignored",
          "traceback": [
            "\u001b[0;31m---------------------------------------------------------------------------\u001b[0m",
            "\u001b[0;31mModuleNotFoundError\u001b[0m                       Traceback (most recent call last)",
            "\u001b[0;32m<ipython-input-2-3115a38ce924>\u001b[0m in \u001b[0;36m<cell line: 4>\u001b[0;34m()\u001b[0m\n\u001b[1;32m      2\u001b[0m \u001b[0;32mimport\u001b[0m \u001b[0mcv2\u001b[0m \u001b[0;32mas\u001b[0m \u001b[0mcv\u001b[0m\u001b[0;34m\u001b[0m\u001b[0;34m\u001b[0m\u001b[0m\n\u001b[1;32m      3\u001b[0m \u001b[0;32mimport\u001b[0m \u001b[0mmatplotlib\u001b[0m\u001b[0;34m.\u001b[0m\u001b[0mpyplot\u001b[0m \u001b[0;32mas\u001b[0m \u001b[0mplt\u001b[0m\u001b[0;34m\u001b[0m\u001b[0;34m\u001b[0m\u001b[0m\n\u001b[0;32m----> 4\u001b[0;31m \u001b[0;32mfrom\u001b[0m \u001b[0mutils\u001b[0m \u001b[0;32mimport\u001b[0m \u001b[0;34m*\u001b[0m\u001b[0;34m\u001b[0m\u001b[0;34m\u001b[0m\u001b[0m\n\u001b[0m",
            "\u001b[0;31mModuleNotFoundError\u001b[0m: No module named 'utils'",
            "",
            "\u001b[0;31m---------------------------------------------------------------------------\u001b[0;32m\nNOTE: If your import is failing due to a missing package, you can\nmanually install dependencies using either !pip or !apt.\n\nTo view examples of installing some common dependencies, click the\n\"Open Examples\" button below.\n\u001b[0;31m---------------------------------------------------------------------------\u001b[0m\n"
          ],
          "errorDetails": {
            "actions": [
              {
                "action": "open_url",
                "actionText": "Open Examples",
                "url": "/notebooks/snippets/importing_libraries.ipynb"
              }
            ]
          }
        }
      ],
      "source": [
        "import numpy as np\n",
        "import cv2 as cv\n",
        "\n",
        "from mpl_toolkits.axes_grid1 import make_axes_locatable\n",
        "from sklearn.decomposition import PCA\n",
        "from sklearn.discriminant_analysis import LinearDiscriminantAnalysis\n",
        "from sklearn.manifold import TSNE\n",
        "from sklearn.svm import SVC\n",
        "\n",
        "from utils import *"
      ]
    },
    {
      "cell_type": "code",
      "source": [
        "from google.colab import drive\n",
        "drive.mount('/content/drive/')"
      ],
      "metadata": {
        "id": "bzTZqIYHqYh-"
      },
      "execution_count": null,
      "outputs": []
    },
    {
      "cell_type": "markdown",
      "source": [
        "Initial EDA"
      ],
      "metadata": {
        "id": "5AvnncP62HCO"
      }
    },
    {
      "cell_type": "code",
      "source": [
        "classN_img_path = \"Data/train/normal/n8 - Copy.jpg\"\n",
        "classA_img_path = \"Data/train/adenocarcinoma_left.lower.lobe_T2_N0_M0_Ib/000000 (6).png\"\n",
        "classL_img_path = \"Data/train/large.cell.carcinoma_left.hilum_T2_N2_M0_IIIa/000002.png\"\n",
        "classS_img_path = \"Data/train/squamous.cell.carcinoma_left.hilum_T1_N2_M0_IIIa/000002 (4).png\"\n",
        "\n",
        "im_N = plt.imread(classN_img_path)\n",
        "im_A = plt.imread(classA_img_path)\n",
        "im_L = plt.imread(classL_img_path)\n",
        "im_S = plt.imread(classS_img_path)"
      ],
      "metadata": {
        "id": "gNGboUdX2F2Z"
      },
      "execution_count": null,
      "outputs": []
    },
    {
      "cell_type": "code",
      "source": [
        "\n",
        "def display_img_colorbar(img):\n",
        "  # display the points\n",
        "  fig, ax = plt.subplots(figsize=(15, 10), nrows=2, ncols=2)\n",
        "  im_ax = plt.imshow(img, cmap='gray')\n",
        "  # create an axes on the right side of ax. The width of cax will be 5%\n",
        "  # of ax and the padding between cax and ax will be fixed at 0.05 inch.\n",
        "  divider = make_axes_locatable(ax)\n",
        "  cax = divider.append_axes(\"right\", size=\"5%\", pad=0.05)\n",
        "  plt.colorbar(im_ax, cax=cax)\n",
        "  plt.show()\n",
        "\n",
        "def plot_imgs(imN, imA, imL, imS):\n",
        "    # display the points\n",
        "    fig, ax = plt.subplots(figsize=(15, 10), nrows=2, ncols=2)\n",
        "    ax[0][0].imshow(imN, cmap='gray')\n",
        "    ax[0][0].set_title(\"Normal (N)\")\n",
        "\n",
        "    ax[0][1].imshow(imA, cmap='gray')\n",
        "    ax[0][1].set_title(\"Adenocarcinoma (A)\")\n",
        "\n",
        "    ax[1][0].imshow(imL, cmap='gray')\n",
        "    ax[1][0].set_title(\"Large cell carcinoma (L)\")\n",
        "\n",
        "    ax[1][1].imshow(imS, cmap='gray')\n",
        "    ax[1][1].set_title(\"Squamous cell carcinoma (S)\")\n",
        "    plt.show()"
      ],
      "metadata": {
        "id": "u5wy0U1-2gcv"
      },
      "execution_count": null,
      "outputs": []
    },
    {
      "cell_type": "code",
      "source": [
        "def generate_edges(img):\n",
        "    # extract the features from the image\n",
        "\n",
        "    # convert to grayscale\n",
        "    if np.max(img)>1:\n",
        "        img = img.astype(np.float32)/255.0\n",
        "    im_gray = np.mean(img, axis=2)\n",
        "\n",
        "    # compute edges of the image\n",
        "    sobelx = cv.Sobel(im_gray, cv.CV_32F, 1, 0, ksize=21) # Find x and y gradients\n",
        "    sobely = cv.Sobel(im_gray, cv.CV_32F, 0, 1, ksize=21)\n",
        "    magnitude = np.sqrt(sobelx**2.0 + sobely**2.0)\n",
        "    magnitude = magnitude / np.max(magnitude) # normalize\n",
        "\n",
        "    # threshold the image and get the interesting points\n",
        "    im_threshold = cv.Canny(image=(magnitude * 255).astype(np.uint8), threshold1=0, threshold2=100) # Canny Edge\n",
        "    im_threshold = im_threshold / np.max(im_threshold) # normalize\n",
        "\n",
        "    return magnitude, im_threshold"
      ],
      "metadata": {
        "id": "C0pDQuHk2sCp"
      },
      "execution_count": null,
      "outputs": []
    },
    {
      "cell_type": "code",
      "source": [
        "edgesN, canny_edgesN = generate_edges(im_N)\n",
        "edgesA, canny_edgesA = generate_edges(im_A)\n",
        "edgesL, canny_edgesL = generate_edges(im_L)\n",
        "edgesS, canny_edgesS = generate_edges(im_S)"
      ],
      "metadata": {
        "id": "hedcIOL12w-P"
      },
      "execution_count": null,
      "outputs": []
    },
    {
      "cell_type": "code",
      "source": [
        "plot_imgs(im_N, im_A, im_L, im_S)"
      ],
      "metadata": {
        "id": "318dHFb720sP"
      },
      "execution_count": null,
      "outputs": []
    },
    {
      "cell_type": "code",
      "source": [
        "plot_imgs(edgesN, edgesA, edgesL, edgesS)"
      ],
      "metadata": {
        "id": "fQzXhRMq3WsH"
      },
      "execution_count": null,
      "outputs": []
    },
    {
      "cell_type": "code",
      "source": [
        "plot_imgs(canny_edgesN, canny_edgesA, canny_edgesL, canny_edgesS)\n"
      ],
      "metadata": {
        "id": "FCcIzUlO24YK"
      },
      "execution_count": null,
      "outputs": []
    },
    {
      "cell_type": "markdown",
      "source": [
        "Feature Extraction"
      ],
      "metadata": {
        "id": "-arji1ltqxxl"
      }
    },
    {
      "cell_type": "code",
      "source": [
        "class_mappings = {\n",
        "    0: \"normal\",\n",
        "    1: \"adenocarcinoma\",\n",
        "    2: \"large.cell.carcinoma\",\n",
        "    3: \"squamous.cell.carcinoma\"\n",
        "}"
      ],
      "metadata": {
        "id": "Eyyt6CLW3wow"
      },
      "execution_count": null,
      "outputs": []
    },
    {
      "cell_type": "code",
      "source": [
        "\n",
        "train_path = \"/content/drive/MyDrive/W281/Final Project/Data_Cropped_and_Resized/train\"\n",
        "\n",
        "train_imgs, train_sobel_edges, train_labels = extract_features(train_path, detect_edges_sobel, class_mappings)\n",
        "_, train_hounsfield_edges, _ = extract_features(train_path, apply_hounsfield_units, class_mappings)"
      ],
      "metadata": {
        "id": "W4DjLEbOqz6W"
      },
      "execution_count": null,
      "outputs": []
    },
    {
      "cell_type": "code",
      "source": [
        "valid_path = \"/content/drive/MyDrive/W281/Final Project/Data_Cropped_and_Resized/valid\"\n",
        "\n",
        "valid_imgs, valid_sobel_edges, valid_labels = extract_features(valid_path, detect_edges_sobel, class_mappings)\n",
        "_, valid_hounsfield_edges, _ = extract_features(valid_path, apply_hounsfield_units, class_mappings)"
      ],
      "metadata": {
        "id": "Qsl5sxHwq8h1"
      },
      "execution_count": null,
      "outputs": []
    },
    {
      "cell_type": "code",
      "source": [
        "plot_features(train_imgs, train_sobel_edges, train_labels, 0, 'Sobel Edge', class_mappings)\n"
      ],
      "metadata": {
        "id": "0WobpPdkrAZb"
      },
      "execution_count": null,
      "outputs": []
    },
    {
      "cell_type": "code",
      "source": [
        "plot_features(train_imgs, train_hounsfield_edges, train_labels, 0, \"Hounsfield Unit\", class_mappings)\n"
      ],
      "metadata": {
        "id": "ZnGSCPLSrHG8"
      },
      "execution_count": null,
      "outputs": []
    },
    {
      "cell_type": "code",
      "source": [
        "train_path = \"/content/drive/MyDrive/W281/Final Project/Data/train\"\n",
        "val_path = \"/content/drive/MyDrive/W281/Final Project/Data/valid\"\n",
        "\n",
        "classN_train_path = train_path + \"/normal/\"\n",
        "classA_train_path = train_path + \"/adenocarcinoma_left.lower.lobe_T2_N0_M0_Ib/\"\n",
        "classL_train_path = train_path + \"/large.cell.carcinoma_left.hilum_T2_N2_M0_IIIa/\"\n",
        "classS_train_path = train_path + \"/squamous.cell.carcinoma_left.hilum_T1_N2_M0_IIIa/\"\n",
        "classN_valid_path = val_path + \"/normal/\"\n",
        "classA_valid_path = val_path + \"/adenocarcinoma_left.lower.lobe_T2_N0_M0_Ib/\"\n",
        "classL_valid_path = val_path + \"/large.cell.carcinoma_left.hilum_T2_N2_M0_IIIa/\"\n",
        "classS_valid_path = val_path + \"/squamous.cell.carcinoma_left.hilum_T1_N2_M0_IIIa/\""
      ],
      "metadata": {
        "id": "VJr2Q-g-3sPt"
      },
      "execution_count": null,
      "outputs": []
    },
    {
      "cell_type": "code",
      "source": [
        "mean_sizes = []\n",
        "\n",
        "print(\"CLASS: NORMAL\")\n",
        "mean_sizes.append(get_average_image_size(classN_train_path)[0])\n",
        "\n",
        "print(\"\\nCLASS: A\")\n",
        "mean_sizes.append(get_average_image_size(classA_train_path)[0])\n",
        "\n",
        "print(\"\\nCLASS: L\")\n",
        "mean_sizes.append(get_average_image_size(classL_train_path)[0])\n",
        "\n",
        "print(\"\\nCLASS: S\")\n",
        "mean_sizes.append(get_average_image_size(classS_train_path)[0])"
      ],
      "metadata": {
        "id": "DcFBgIU6rO6c"
      },
      "execution_count": null,
      "outputs": []
    },
    {
      "cell_type": "code",
      "source": [
        "\n",
        "print(\"CLASS: NORMAL\")\n",
        "mean_sizes.append(get_average_image_size(classN_valid_path)[0])\n",
        "\n",
        "print(\"\\nCLASS: A\")\n",
        "mean_sizes.append(get_average_image_size(classA_valid_path)[0])\n",
        "\n",
        "print(\"\\nCLASS: L\")\n",
        "mean_sizes.append(get_average_image_size(classL_valid_path)[0])\n",
        "\n",
        "print(\"\\nCLASS: S\")\n",
        "mean_sizes.append(get_average_image_size(classS_valid_path)[0])"
      ],
      "metadata": {
        "id": "3XyKSpfHxeDh"
      },
      "execution_count": null,
      "outputs": []
    },
    {
      "cell_type": "code",
      "source": [
        "mean_sizes = np.array(mean_sizes)\n",
        "out_img_size = (int(np.round(mean_sizes[:, 0].mean())), int(np.round(mean_sizes[:, 1].mean())))\n",
        "\n",
        "print(f\"Mean of all images: {out_img_size}\")"
      ],
      "metadata": {
        "id": "7m_mIzmryMcI"
      },
      "execution_count": null,
      "outputs": []
    },
    {
      "cell_type": "code",
      "source": [
        "out_img_dir = \"/content/drive/MyDrive/W281/Final Project/Data_Cropped_and_Resized\"\n",
        "output_img_size = (256, 256)\n",
        "\n",
        "crop_and_resize_images(train_path, output_img_size, out_img_dir)"
      ],
      "metadata": {
        "id": "B70I9TrSyOo5"
      },
      "execution_count": null,
      "outputs": []
    },
    {
      "cell_type": "code",
      "source": [
        "crop_and_resize_images(val_path, output_img_size, out_img_dir)\n"
      ],
      "metadata": {
        "id": "Q27-yZNVyTHy"
      },
      "execution_count": null,
      "outputs": []
    },
    {
      "cell_type": "code",
      "source": [
        "img_name = \"/content/drive/MyDrive/W281/Final Project/Data/train/normal/n8.jpg\"\n",
        "img = plt.imread(img_name)\n",
        "plt.imshow(img)"
      ],
      "metadata": {
        "id": "_sv9luXfyVUL"
      },
      "execution_count": null,
      "outputs": []
    },
    {
      "cell_type": "code",
      "source": [
        "img_name = \"/content/drive/MyDrive/W281/Final Project/Data_Resized/train/normal/n8.jpg\"\n",
        "img = plt.imread(img_name)\n",
        "plt.imshow(img, cmap=\"gray\")"
      ],
      "metadata": {
        "id": "_2jAyzyayYpU"
      },
      "execution_count": null,
      "outputs": []
    },
    {
      "cell_type": "code",
      "source": [
        "def show_slice_window(slice, level, window):\n",
        "   \"\"\"\n",
        "   Function to display an image slice\n",
        "   Input is a numpy 2D array\n",
        "   \"\"\"\n",
        "   max = level + window/2\n",
        "   min = level - window/2\n",
        "   slice = slice.clip(min,max)\n",
        "\n",
        "   fig, ax = plt.subplots(nrows=1, ncols=2, figsize=(20,10))\n",
        "   ax[0].imshow(slice, cmap=\"gray\")\n",
        "\n",
        "   retval, thresh_gray = cv.threshold(slice,\n",
        "                                      thresh=50,\n",
        "                                      maxval=255,\n",
        "                                      type=cv.THRESH_BINARY)\n",
        "   ax[1].imshow(thresh_gray,\n",
        "                cmap='gray',\n",
        "                vmin=0,\n",
        "                vmax=255)\n",
        "\n",
        "   return thresh_gray"
      ],
      "metadata": {
        "id": "xL1M9Gloyc84"
      },
      "execution_count": null,
      "outputs": []
    },
    {
      "cell_type": "code",
      "source": [
        "img_N = cv.imread(\"/content/drive/MyDrive/W281/FinalProject/Data_Resized/train/normal/n9.jpg\", cv.IMREAD_GRAYSCALE)\n",
        "img_N = cv.equalizeHist(img_N)\n",
        "\n",
        "# Calculate the histogram\n",
        "hist, bins = np.histogram(img_N.flatten(), 256, [0, 256])\n",
        "\n",
        "# Plot the histogram\n",
        "plt.figure(figsize=(8, 6))\n",
        "plt.bar(bins[:-1], hist, width=1, color='gray')\n",
        "plt.title(\"Grayscale Histogram\")\n",
        "plt.xlabel(\"Pixel Value\")\n",
        "plt.ylabel(\"Frequency\")\n",
        "plt.show()"
      ],
      "metadata": {
        "id": "OdDiK19YzBim"
      },
      "execution_count": null,
      "outputs": []
    },
    {
      "cell_type": "code",
      "source": [
        "  def get_PCA(X_list, n_components=2):\n",
        "  pca_list = []\n",
        "  xpca_list = []\n",
        "  for X in X_list:\n",
        "    pca = PCA(n_components=n_components, svd_solver=\"randomized\", whiten=True).fit(X)\n",
        "    X_pca = pca.transform(X)\n",
        "    pca_list.append(pca)\n",
        "    xpca_list.append(X_pca)\n",
        "  return pca_list, xpca_list\n",
        "\n",
        "def plot_PCA(X_list, labels, n_components=2):\n",
        "  pca_list, xpca_list = get_PCA(X_list, n_components=n_components)\n",
        "\n",
        "  plt.figure(figsize=(15,5))\n",
        "  colors = ['b-', 'm-']\n",
        "  for i in range(len(X_list)):\n",
        "    plt.plot(np.cumsum(pca_list[i].explained_variance_ratio_), colors[i], label=labels[i])\n",
        "  plt.xticks(np.arange(n_components)+1)\n",
        "  plt.yticks(np.linspace(0, 1, 8))\n",
        "  plt.grid(True)\n",
        "  plt.xlabel('Number of components')\n",
        "  plt.ylabel('Explained Variances')\n",
        "  plt.legend()\n",
        "  plt.show()\n",
        "\n",
        "def get_tsne(X_list, n_components=2):\n",
        "  xtsne_list = []\n",
        "  for X in X_list:\n",
        "    tsne = TSNE(n_components=n_components, random_state=0)\n",
        "    X_tsne = tsne.fit_transform(X)\n",
        "    xtsne_list.append(X_tsne)\n",
        "  return xtsne_list"
      ],
      "metadata": {
        "id": "18BxggrTzDrh"
      },
      "execution_count": null,
      "outputs": []
    },
    {
      "cell_type": "code",
      "source": [
        "labels = ['sobel edges', 'houndsfield edges']\n",
        "\n",
        "training_features = [[img.flatten() for img in train_sobel_edges],\n",
        "            [img.flatten() for img in train_hounsfield_edges]]\n",
        "\n",
        "plot_PCA(training_features, labels, n_components=50)"
      ],
      "metadata": {
        "id": "_C9PAgDd0lzd"
      },
      "execution_count": null,
      "outputs": []
    },
    {
      "cell_type": "markdown",
      "source": [
        "LDA with Sobel Edges"
      ],
      "metadata": {
        "id": "6deAycU112kH"
      }
    },
    {
      "cell_type": "code",
      "source": [
        "X_sobel_pca, X_hounsfield_pca = get_PCA(training_features, n_components=48)[-1]"
      ],
      "metadata": {
        "id": "5ipBJgEz0t4s"
      },
      "execution_count": null,
      "outputs": []
    },
    {
      "cell_type": "code",
      "source": [
        "lda = LinearDiscriminantAnalysis()\n",
        "lda.fit(X_sobel_pca, train_labels)\n",
        "\n",
        "X_lda = lda.transform(X_sobel_pca)\n",
        "\n",
        "coef_lda = lda.coef_[0]\n",
        "intercept_lda = lda.intercept_[0]\n",
        "\n",
        "plt.figure(figsize=(8, 6))\n",
        "\n",
        "for label in np.unique(train_labels):\n",
        "    plt.scatter(X_lda[train_labels == label, 0], X_lda[train_labels == label, 1], label=label)\n",
        "\n",
        "line_x = np.array([X_lda[:, 0].min() - 1, X_lda[:, 0].max() + 1])\n",
        "line_y = -(line_x * coef_lda[0] + intercept_lda) / coef_lda[1]\n",
        "\n",
        "plt.plot(line_x, line_y, c='black', linewidth=2, label='Fitted Line')\n",
        "\n",
        "plt.xlabel('LD1')\n",
        "plt.ylabel('LD2')\n",
        "plt.title('Fitted Line from Linear Discriminant Analysis')\n",
        "plt.legend()\n",
        "plt.grid(True)\n",
        "plt.show()"
      ],
      "metadata": {
        "id": "6QgFCVJk07Ht"
      },
      "execution_count": null,
      "outputs": []
    },
    {
      "cell_type": "markdown",
      "source": [
        "LDA with Hounsfield Units"
      ],
      "metadata": {
        "id": "NMlW4X5815b9"
      }
    },
    {
      "cell_type": "code",
      "source": [
        "lda.fit(X_hounsfield_pca, train_labels)\n",
        "\n",
        "X_lda = lda.transform(X_hounsfield_pca)\n",
        "\n",
        "coef_lda = lda.coef_[0]\n",
        "intercept_lda = lda.intercept_[0]\n",
        "\n",
        "plt.figure(figsize=(8, 6))\n",
        "\n",
        "for label in np.unique(train_labels):\n",
        "    plt.scatter(X_lda[train_labels == label, 0], X_lda[train_labels == label, 1], label=label)\n",
        "\n",
        "line_x = np.array([X_lda[:, 0].min() - 1, X_lda[:, 0].max() + 1])\n",
        "line_y = -(line_x * coef_lda[0] + intercept_lda) / coef_lda[1]\n",
        "\n",
        "plt.plot(line_x, line_y, c='black', linewidth=2, label='Fitted Line')\n",
        "\n",
        "plt.xlabel('LD1')\n",
        "plt.ylabel('LD2')\n",
        "plt.title('Fitted Line from Linear Discriminant Analysis')\n",
        "plt.legend()\n",
        "plt.grid(True)\n",
        "plt.show()"
      ],
      "metadata": {
        "id": "9DZMF_cZ1KFM"
      },
      "execution_count": null,
      "outputs": []
    }
  ]
}