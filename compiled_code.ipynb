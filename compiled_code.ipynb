{
  "nbformat": 4,
  "nbformat_minor": 0,
  "metadata": {
    "colab": {
      "provenance": [],
      "authorship_tag": "ABX9TyPi70o9GaJyLtMYdxy+wVQz",
      "include_colab_link": true
    },
    "kernelspec": {
      "name": "python3",
      "display_name": "Python 3"
    },
    "language_info": {
      "name": "python"
    }
  },
  "cells": [
    {
      "cell_type": "markdown",
      "metadata": {
        "id": "view-in-github",
        "colab_type": "text"
      },
      "source": [
        "<a href=\"https://colab.research.google.com/github/zacharyzimm/mids-281-final-project/blob/main/compiled_code.ipynb\" target=\"_parent\"><img src=\"https://colab.research.google.com/assets/colab-badge.svg\" alt=\"Open In Colab\"/></a>"
      ]
    },
    {
      "cell_type": "code",
      "execution_count": 2,
      "metadata": {
        "colab": {
          "base_uri": "https://localhost:8080/",
          "height": 350
        },
        "id": "yyEssouwiP9M",
        "outputId": "df3724ff-c23e-469b-ff8c-e844bc1b4031"
      },
      "outputs": [
        {
          "output_type": "error",
          "ename": "ModuleNotFoundError",
          "evalue": "ignored",
          "traceback": [
            "\u001b[0;31m---------------------------------------------------------------------------\u001b[0m",
            "\u001b[0;31mModuleNotFoundError\u001b[0m                       Traceback (most recent call last)",
            "\u001b[0;32m<ipython-input-2-3115a38ce924>\u001b[0m in \u001b[0;36m<cell line: 4>\u001b[0;34m()\u001b[0m\n\u001b[1;32m      2\u001b[0m \u001b[0;32mimport\u001b[0m \u001b[0mcv2\u001b[0m \u001b[0;32mas\u001b[0m \u001b[0mcv\u001b[0m\u001b[0;34m\u001b[0m\u001b[0;34m\u001b[0m\u001b[0m\n\u001b[1;32m      3\u001b[0m \u001b[0;32mimport\u001b[0m \u001b[0mmatplotlib\u001b[0m\u001b[0;34m.\u001b[0m\u001b[0mpyplot\u001b[0m \u001b[0;32mas\u001b[0m \u001b[0mplt\u001b[0m\u001b[0;34m\u001b[0m\u001b[0;34m\u001b[0m\u001b[0m\n\u001b[0;32m----> 4\u001b[0;31m \u001b[0;32mfrom\u001b[0m \u001b[0mutils\u001b[0m \u001b[0;32mimport\u001b[0m \u001b[0;34m*\u001b[0m\u001b[0;34m\u001b[0m\u001b[0;34m\u001b[0m\u001b[0m\n\u001b[0m",
            "\u001b[0;31mModuleNotFoundError\u001b[0m: No module named 'utils'",
            "",
            "\u001b[0;31m---------------------------------------------------------------------------\u001b[0;32m\nNOTE: If your import is failing due to a missing package, you can\nmanually install dependencies using either !pip or !apt.\n\nTo view examples of installing some common dependencies, click the\n\"Open Examples\" button below.\n\u001b[0;31m---------------------------------------------------------------------------\u001b[0m\n"
          ],
          "errorDetails": {
            "actions": [
              {
                "action": "open_url",
                "actionText": "Open Examples",
                "url": "/notebooks/snippets/importing_libraries.ipynb"
              }
            ]
          }
        }
      ],
      "source": [
        "import numpy as np\n",
        "import cv2 as cv\n",
        "import matplotlib.pyplot as plt\n",
        "from utils import *"
      ]
    },
    {
      "cell_type": "code",
      "source": [
        "from google.colab import drive\n",
        "drive.mount('/content/drive/')"
      ],
      "metadata": {
        "id": "bzTZqIYHqYh-"
      },
      "execution_count": null,
      "outputs": []
    },
    {
      "cell_type": "markdown",
      "source": [
        "Feature Extraction"
      ],
      "metadata": {
        "id": "-arji1ltqxxl"
      }
    },
    {
      "cell_type": "code",
      "source": [
        "\n",
        "train_path = \"/content/drive/MyDrive/W281/Final Project/Data_Cropped_and_Resized/train\"\n",
        "\n",
        "train_imgs, train_sobel_edges, train_labels = extract_features(train_path, detect_edges_sobel, class_mappings)\n",
        "_, train_hounsfield_edges, _ = extract_features(train_path, apply_hounsfield_units, class_mappings)"
      ],
      "metadata": {
        "id": "W4DjLEbOqz6W"
      },
      "execution_count": null,
      "outputs": []
    },
    {
      "cell_type": "code",
      "source": [
        "valid_path = \"/content/drive/MyDrive/W281/Final Project/Data_Cropped_and_Resized/valid\"\n",
        "\n",
        "valid_imgs, valid_sobel_edges, valid_labels = extract_features(valid_path, detect_edges_sobel, class_mappings)\n",
        "_, valid_hounsfield_edges, _ = extract_features(valid_path, apply_hounsfield_units, class_mappings)"
      ],
      "metadata": {
        "id": "Qsl5sxHwq8h1"
      },
      "execution_count": null,
      "outputs": []
    },
    {
      "cell_type": "code",
      "source": [
        "plot_features(train_imgs, train_sobel_edges, train_labels, 0, 'Sobel Edge', class_mappings)\n"
      ],
      "metadata": {
        "id": "0WobpPdkrAZb"
      },
      "execution_count": null,
      "outputs": []
    },
    {
      "cell_type": "code",
      "source": [
        "plot_features(train_imgs, train_hounsfield_edges, train_labels, 0, \"Hounsfield Unit\", class_mappings)\n"
      ],
      "metadata": {
        "id": "ZnGSCPLSrHG8"
      },
      "execution_count": null,
      "outputs": []
    },
    {
      "cell_type": "markdown",
      "source": [
        "Dimensionality Reduction (PCA)"
      ],
      "metadata": {
        "id": "5XKoDXl-rKSc"
      }
    },
    {
      "cell_type": "code",
      "source": [
        "mean_sizes = []\n",
        "\n",
        "print(\"CLASS: NORMAL\")\n",
        "mean_sizes.append(get_average_image_size(classN_train_path)[0])\n",
        "\n",
        "print(\"\\nCLASS: A\")\n",
        "mean_sizes.append(get_average_image_size(classA_train_path)[0])\n",
        "\n",
        "print(\"\\nCLASS: L\")\n",
        "mean_sizes.append(get_average_image_size(classL_train_path)[0])\n",
        "\n",
        "print(\"\\nCLASS: S\")\n",
        "mean_sizes.append(get_average_image_size(classS_train_path)[0])"
      ],
      "metadata": {
        "id": "DcFBgIU6rO6c"
      },
      "execution_count": null,
      "outputs": []
    }
  ]
}