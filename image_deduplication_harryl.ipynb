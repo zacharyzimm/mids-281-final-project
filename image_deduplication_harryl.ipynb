{
 "cells": [
  {
   "cell_type": "markdown",
   "id": "80f9ac0f",
   "metadata": {},
   "source": [
    "# Image Deduplication"
   ]
  },
  {
   "cell_type": "code",
   "execution_count": 2,
   "id": "c896fffa",
   "metadata": {},
   "outputs": [],
   "source": [
    "import cv2\n",
    "import numpy as np\n",
    "import matplotlib.pyplot as plt\n",
    "from PIL import Image, ImageFilter\n",
    "import os"
   ]
  },
  {
   "cell_type": "code",
   "execution_count": 17,
   "id": "d9651da2",
   "metadata": {
    "scrolled": true
   },
   "outputs": [
    {
     "name": "stdout",
     "output_type": "stream",
     "text": [
      "['11 - Copy.png', '11.png']\n"
     ]
    },
    {
     "name": "stderr",
     "output_type": "stream",
     "text": [
      "/var/folders/sk/8_ygzhbn08z6r440fsjv0y3h0000gn/T/ipykernel_32243/1254703701.py:14: DeprecationWarning: ANTIALIAS is deprecated and will be removed in Pillow 10 (2023-07-01). Use LANCZOS or Resampling.LANCZOS instead.\n",
      "  resized_image = image.resize(target_size, Image.ANTIALIAS)\n"
     ]
    }
   ],
   "source": [
    "def compute_rmse(image1, image2):\n",
    "    # Convert the images to grayscale and then to numpy arrays\n",
    "    np_image1 = np.array(image1.convert('L'))\n",
    "    np_image2 = np.array(image2.convert('L'))\n",
    "    \n",
    "    # Compute the Root Mean Squared Error (RMSE) between the two grayscale images\n",
    "    mse = np.mean((np_image1 - np_image2) ** 2)\n",
    "    rmse = np.sqrt(mse)\n",
    "    \n",
    "    return rmse\n",
    "\n",
    "def resize_image(image, target_size):\n",
    "    # Resize the image to the target size\n",
    "    resized_image = image.resize(target_size, Image.ANTIALIAS)\n",
    "    return resized_image\n",
    "\n",
    "def deduplicate_images(folder_path, rmse_threshold=7.0, target_size=(256, 256)):\n",
    "    image_files = [f for f in os.listdir(folder_path) if f.endswith(('.jpg', '.jpeg', '.png', '.gif'))]\n",
    "    deduplicated_images = []\n",
    "\n",
    "    for i, image_file in enumerate(image_files):\n",
    "        image1_path = os.path.join(folder_path, image_file)\n",
    "        image1 = Image.open(image1_path)\n",
    "\n",
    "        # Convert the image to grayscale\n",
    "        image1 = image1.convert('L')\n",
    "\n",
    "        # Resize the image to the target size\n",
    "        image1 = resize_image(image1, target_size)\n",
    "\n",
    "        is_duplicate = False\n",
    "        for dedup_image in deduplicated_images:\n",
    "            image2 = dedup_image[0]\n",
    "            rmse = compute_rmse(image1, image2)\n",
    "            if rmse < rmse_threshold:\n",
    "                is_duplicate = True\n",
    "                break\n",
    "\n",
    "        if not is_duplicate:\n",
    "            deduplicated_images.append((image1, image_file))\n",
    "    \n",
    "    deduplicated_images.sort(key=lambda x: x[1])\n",
    "    \n",
    "    return [image_file for _, image_file in deduplicated_images]\n",
    "\n",
    "# Example usage:\n",
    "# folder_path = \"/path/to/your/folder\"\n",
    "folder_path = 'Data/train/test_dups'\n",
    "deduplicated_images = deduplicate_images(folder_path)\n",
    "print(deduplicated_images)\n"
   ]
  }
 ],
 "metadata": {
  "kernelspec": {
   "display_name": "Python 3 (ipykernel)",
   "language": "python",
   "name": "python3"
  },
  "language_info": {
   "codemirror_mode": {
    "name": "ipython",
    "version": 3
   },
   "file_extension": ".py",
   "mimetype": "text/x-python",
   "name": "python",
   "nbconvert_exporter": "python",
   "pygments_lexer": "ipython3",
   "version": "3.9.6"
  }
 },
 "nbformat": 4,
 "nbformat_minor": 5
}
