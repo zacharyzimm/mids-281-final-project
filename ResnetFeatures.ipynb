{
  "cells": [
    {
      "cell_type": "code",
      "execution_count": 10,
      "metadata": {
        "id": "LqMp70dd060c"
      },
      "outputs": [],
      "source": [
        "import numpy as np\n",
        "import matplotlib.pyplot as plt\n",
        "\n",
        "from utils import *\n",
        "\n",
        "import torchvision.models as models\n",
        "from torchvision import transforms\n",
        "from torch import nn\n",
        "from PIL import Image\n"
      ]
    },
    {
      "cell_type": "code",
      "execution_count": 3,
      "metadata": {
        "colab": {
          "base_uri": "https://localhost:8080/"
        },
        "id": "OS_4KGw9060d",
        "outputId": "e87b7b54-1141-40c1-be1d-c12fce0a1c1a"
      },
      "outputs": [],
      "source": [
        "data_dir = \"../Data_Cropped_and_Resized\""
      ]
    },
    {
      "cell_type": "markdown",
      "metadata": {
        "id": "ufktc1q_2a9F"
      },
      "source": [
        "### Feature Extraction"
      ]
    },
    {
      "cell_type": "code",
      "execution_count": 11,
      "metadata": {},
      "outputs": [],
      "source": [
        "def get_resnet_features(img, model):\n",
        "    \n",
        "    model_conv_features = nn.Sequential(*list(model.children())[:-1]).to('cpu')\n",
        "    preprocess = transforms.Compose([\n",
        "        transforms.Resize(256),\n",
        "        transforms.CenterCrop(224),\n",
        "        transforms.ToTensor(),\n",
        "        transforms.Normalize(mean=[0.485, 0.456, 0.406], std=[0.229, 0.224, 0.225]),\n",
        "    ])\n",
        "    if np.max(img) > 1:\n",
        "        img = img.astype(np.uint8)\n",
        "    else:\n",
        "        img = (img * 255.0).astype(np.uint8)\n",
        "    img = Image.fromarray(img).convert('RGB')\n",
        "    img = preprocess(img)\n",
        "\n",
        "    return model_conv_features(img.unsqueeze(0).to('cpu')).squeeze().detach().numpy()\n",
        "\n",
        "def extract_features(split_path, feature_func, kwargs=None):\n",
        "    features = []\n",
        "    images = []\n",
        "    labels = []\n",
        "\n",
        "    for label, class_name in class_mappings.items():\n",
        "        class_path = os.path.join(split_path, class_name)\n",
        "        for img_name in os.listdir(class_path):\n",
        "            image = cv2.imread(os.path.join(class_path, img_name), cv2.IMREAD_GRAYSCALE)\n",
        "            image = preprocess_image(image)\n",
        "            feat = feature_func(image.copy(), **kwargs)\n",
        "            images.append(image)\n",
        "            features.append(feat)\n",
        "            labels.append(label)\n",
        "\n",
        "    return images, features, labels\n"
      ]
    },
    {
      "cell_type": "markdown",
      "metadata": {},
      "source": []
    },
    {
      "cell_type": "code",
      "execution_count": 12,
      "metadata": {},
      "outputs": [
        {
          "name": "stderr",
          "output_type": "stream",
          "text": [
            "/Users/ktnorton/anaconda3/envs/w281/lib/python3.11/site-packages/torchvision/models/_utils.py:208: UserWarning: The parameter 'pretrained' is deprecated since 0.13 and may be removed in the future, please use 'weights' instead.\n",
            "  warnings.warn(\n",
            "/Users/ktnorton/anaconda3/envs/w281/lib/python3.11/site-packages/torchvision/models/_utils.py:223: UserWarning: Arguments other than a weight enum or `None` for 'weights' are deprecated since 0.13 and may be removed in the future. The current behavior is equivalent to passing `weights=ResNet101_Weights.IMAGENET1K_V1`. You can also use `weights=ResNet101_Weights.DEFAULT` to get the most up-to-date weights.\n",
            "  warnings.warn(msg)\n"
          ]
        }
      ],
      "source": [
        "train_path = f\"{data_dir}/train\"\n",
        "\n",
        "resnet101 = models.resnet101(pretrained=True)\n",
        "train_imgs, train_resnet_feat, train_labels = extract_features(train_path, get_resnet_features, {\"model\": resnet101})\n"
      ]
    }
  ],
  "metadata": {
    "colab": {
      "provenance": []
    },
    "kernelspec": {
      "display_name": "w281",
      "language": "python",
      "name": "python3"
    },
    "language_info": {
      "codemirror_mode": {
        "name": "ipython",
        "version": 3
      },
      "file_extension": ".py",
      "mimetype": "text/x-python",
      "name": "python",
      "nbconvert_exporter": "python",
      "pygments_lexer": "ipython3",
      "version": "3.11.3"
    },
    "orig_nbformat": 4
  },
  "nbformat": 4,
  "nbformat_minor": 0
}
