{
 "cells": [
  {
   "cell_type": "markdown",
   "id": "40519b8c",
   "metadata": {},
   "source": [
    "# Blob Detection"
   ]
  },
  {
   "cell_type": "code",
   "execution_count": 7,
   "id": "6bf1dc60",
   "metadata": {},
   "outputs": [],
   "source": [
    "import numpy as np\n",
    "from skimage.io import imshow, imread\n",
    "from skimage.color import rgb2gray\n",
    "import matplotlib.pyplot as plt"
   ]
  },
  {
   "cell_type": "code",
   "execution_count": 10,
   "id": "58ed03f9",
   "metadata": {},
   "outputs": [],
   "source": [
    "n_path = 'Data/train/normal/6 - Copy (3).png'\n",
    "a_path = 'Data/train/adenocarcinoma_left.lower.lobe_T2_N0_M0_Ib/000061.png'\n",
    "l_path = 'Data/train/large.cell.carcinoma_left.hilum_T2_N2_M0_IIIa/000002.png'\n",
    "s_path = 'Data/train/squamous.cell.carcinoma_left.hilum_T1_N2_M0_IIIa/000003.png'\n",
    "\n",
    "sample = cv2.imread(n_path, cv2.IMREAD_GRAYSCALE) \n",
    "sample_g = rgb2gray(sample)\n",
    "print(sample)\n",
    "\n",
    "fig, ax = plt.subplots(1,2,figsize=(10,5))\n",
    "\n",
    "ax[0].imshow(sample, cmap='gray', vmin=0, vmax=255)\n",
    "ax[0].title.set_text(image_path + ' - Threshold')\n"
   ]
  }
 ],
 "metadata": {
  "kernelspec": {
   "display_name": "Python 3 (ipykernel)",
   "language": "python",
   "name": "python3"
  },
  "language_info": {
   "codemirror_mode": {
    "name": "ipython",
    "version": 3
   },
   "file_extension": ".py",
   "mimetype": "text/x-python",
   "name": "python",
   "nbconvert_exporter": "python",
   "pygments_lexer": "ipython3",
   "version": "3.9.6"
  }
 },
 "nbformat": 4,
 "nbformat_minor": 5
}
